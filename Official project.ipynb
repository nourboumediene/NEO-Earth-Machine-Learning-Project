{
 "cells": [
  {
   "cell_type": "markdown",
   "metadata": {},
   "source": [
    "**<h1>This notebook is under the purpose of predicting the Rarity of certain Objects <br> approaching the Earth using: <br><span style =\"color: green;\"> The NEO Earth Close Approaches Dataset From NASA </span></h1>**\n",
    "\n",
    "This is a classification problem, and next explains the process!"
   ]
  },
  {
   "cell_type": "markdown",
   "metadata": {},
   "source": [
    "**<h2 style = \"color:#FFDB5C;\">1/ Importing the necessary Libraries<h2>**"
   ]
  },
  {
   "cell_type": "code",
   "execution_count": 1,
   "metadata": {},
   "outputs": [],
   "source": [
    "#Libraries for data manipulation and visualization\n",
    "import numpy as np \n",
    "import pandas as pd\n",
    "import matplotlib.pyplot as plt\n",
    "import seaborn as sns\n",
    "#Libraries for data preprocessing\n",
    "from imblearn.over_sampling import SMOTE\n",
    "from sklearn.model_selection import train_test_split\n",
    "from sklearn.preprocessing import StandardScaler\n",
    "#Libraries for model building\n",
    "from sklearn.linear_model import LogisticRegression\n",
    "from sklearn.tree import DecisionTreeClassifier\n",
    "from sklearn.ensemble import RandomForestClassifier, GradientBoostingClassifier\n",
    "from sklearn.svm import SVC\n",
    "from sklearn.neighbors import KNeighborsClassifier\n",
    "#Libraries for model evaluation\n",
    "from sklearn.metrics import accuracy_score, classification_report\n"
   ]
  },
  {
   "cell_type": "markdown",
   "metadata": {},
   "source": [
    "**<h2 style = \"color:#FFDB5C;\">2/ Data Preprocessing<h2>**"
   ]
  },
  {
   "cell_type": "code",
   "execution_count": 2,
   "metadata": {},
   "outputs": [
    {
     "data": {
      "text/html": [
       "<div>\n",
       "<style scoped>\n",
       "    .dataframe tbody tr th:only-of-type {\n",
       "        vertical-align: middle;\n",
       "    }\n",
       "\n",
       "    .dataframe tbody tr th {\n",
       "        vertical-align: top;\n",
       "    }\n",
       "\n",
       "    .dataframe thead th {\n",
       "        text-align: right;\n",
       "    }\n",
       "</style>\n",
       "<table border=\"1\" class=\"dataframe\">\n",
       "  <thead>\n",
       "    <tr style=\"text-align: right;\">\n",
       "      <th></th>\n",
       "      <th>Object</th>\n",
       "      <th>Close-Approach (CA) Date</th>\n",
       "      <th>CA DistanceNominal (au)</th>\n",
       "      <th>CA DistanceMinimum (au)</th>\n",
       "      <th>V relative(km/s)</th>\n",
       "      <th>V infinity(km/s)</th>\n",
       "      <th>H(mag)</th>\n",
       "      <th>Diameter</th>\n",
       "      <th>Rarity</th>\n",
       "    </tr>\n",
       "  </thead>\n",
       "  <tbody>\n",
       "    <tr>\n",
       "      <th>0</th>\n",
       "      <td>(2023 JA1)</td>\n",
       "      <td>2023-May-03 01:15 ± &lt; 00:01</td>\n",
       "      <td>0.02518</td>\n",
       "      <td>0.02509</td>\n",
       "      <td>5.01</td>\n",
       "      <td>4.99</td>\n",
       "      <td>26.6</td>\n",
       "      <td>13 m -   29 m</td>\n",
       "      <td>0</td>\n",
       "    </tr>\n",
       "    <tr>\n",
       "      <th>1</th>\n",
       "      <td>(2023 HV5)</td>\n",
       "      <td>2023-May-03 03:16 ± &lt; 00:01</td>\n",
       "      <td>0.00291</td>\n",
       "      <td>0.00290</td>\n",
       "      <td>8.93</td>\n",
       "      <td>8.82</td>\n",
       "      <td>27.2</td>\n",
       "      <td>9.8 m -   22 m</td>\n",
       "      <td>0</td>\n",
       "    </tr>\n",
       "    <tr>\n",
       "      <th>2</th>\n",
       "      <td>(2023 JM2)</td>\n",
       "      <td>2023-May-03 05:23 ± &lt; 00:01</td>\n",
       "      <td>0.04008</td>\n",
       "      <td>0.03996</td>\n",
       "      <td>6.33</td>\n",
       "      <td>6.32</td>\n",
       "      <td>26.0</td>\n",
       "      <td>17 m -   38 m</td>\n",
       "      <td>0</td>\n",
       "    </tr>\n",
       "    <tr>\n",
       "      <th>3</th>\n",
       "      <td>(2023 HF7)</td>\n",
       "      <td>2023-May-04 00:02 ± &lt; 00:01</td>\n",
       "      <td>0.00427</td>\n",
       "      <td>0.00426</td>\n",
       "      <td>13.10</td>\n",
       "      <td>13.05</td>\n",
       "      <td>26.8</td>\n",
       "      <td>12 m -   26 m</td>\n",
       "      <td>0</td>\n",
       "    </tr>\n",
       "    <tr>\n",
       "      <th>4</th>\n",
       "      <td>(2023 HH7)</td>\n",
       "      <td>2023-May-04 05:47 ± &lt; 00:01</td>\n",
       "      <td>0.00561</td>\n",
       "      <td>0.00558</td>\n",
       "      <td>24.55</td>\n",
       "      <td>24.53</td>\n",
       "      <td>25.5</td>\n",
       "      <td>21 m -   47 m</td>\n",
       "      <td>1</td>\n",
       "    </tr>\n",
       "  </tbody>\n",
       "</table>\n",
       "</div>"
      ],
      "text/plain": [
       "       Object     Close-Approach (CA) Date  CA DistanceNominal (au)  \\\n",
       "0  (2023 JA1)  2023-May-03 01:15 ± < 00:01                  0.02518   \n",
       "1  (2023 HV5)  2023-May-03 03:16 ± < 00:01                  0.00291   \n",
       "2  (2023 JM2)  2023-May-03 05:23 ± < 00:01                  0.04008   \n",
       "3  (2023 HF7)  2023-May-04 00:02 ± < 00:01                  0.00427   \n",
       "4  (2023 HH7)  2023-May-04 05:47 ± < 00:01                  0.00561   \n",
       "\n",
       "   CA DistanceMinimum (au)  V relative(km/s)  V infinity(km/s)  H(mag)  \\\n",
       "0                  0.02509              5.01              4.99    26.6   \n",
       "1                  0.00290              8.93              8.82    27.2   \n",
       "2                  0.03996              6.33              6.32    26.0   \n",
       "3                  0.00426             13.10             13.05    26.8   \n",
       "4                  0.00558             24.55             24.53    25.5   \n",
       "\n",
       "         Diameter  Rarity  \n",
       "0   13 m -   29 m       0  \n",
       "1  9.8 m -   22 m       0  \n",
       "2   17 m -   38 m       0  \n",
       "3   12 m -   26 m       0  \n",
       "4   21 m -   47 m       1  "
      ]
     },
     "execution_count": 2,
     "metadata": {},
     "output_type": "execute_result"
    }
   ],
   "source": [
    "#uploading the dataset\n",
    "df = pd.read_csv('NEO Earth Close Approaches.csv')\n",
    "#displaying the first 5 rows of the dataset\n",
    "df.head()"
   ]
  },
  {
   "cell_type": "markdown",
   "metadata": {},
   "source": [
    "**Let's get an idea about what do these columns mean**\n",
    "**About Dataset**\n",
    "Near-Earth Objects (NEOs) are a category of asteroids whose orbits come close to intersecting Earth’s orbit. These objects are tracked carefully by astronomers due to their potential impact risk with our planet. As they orbit the Sun, NEOs occasionally approach close to Earth.\n",
    "\n",
    "NASA’s Center for Near-Earth Object Studies (CNEOS) calculates the motion of all NEOs forwards to 2200 A.D. and backwards to 1900 A.D., determining the times and distances of Earth close approaches.\n",
    "\n",
    "_Object:_\n",
    "\n",
    "Object primary designation\n",
    "\n",
    "**Data Description (Variables):**\n",
    "\n",
    "_Close-Approach (CA) Date_\n",
    "\n",
    "Date and time (TDB) of closest Earth approach. \"Nominal Date\" is given to appropriate precision. The 3-sigma uncertainty in the time is given in the +/- column in days_hours:minutes format (for example, \"2_15:23\" is 2 days, 15 hours, 23 minutes; \"< 00:01\" is less than 1 minute).\n",
    "\n",
    "_CA Distance Nominal (au)_\n",
    "\n",
    "The most likely (Nominal) close-approach distance (Earth center to NEO center), in astronomical units.\n",
    "\n",
    "_CA Distance Minimum (au)_\n",
    "\n",
    "The minimum possible close-approach distance (Earth center to NEO center), in astronomical units. The minimum possible distance is based on the 3-sigma Earth target-plane error ellipse.\n",
    "\n",
    "_V relative (km/s)_\n",
    "\n",
    "Object velocity relative to Earth at close-approach.\n",
    "\n",
    "_V infinity (km/s)_\n",
    "\n",
    "Object velocity relative to a massless Earth at close-approach.\n",
    "\n",
    "_H (mag)_\n",
    "\n",
    "Asteroid absolute magnitude (in general, smaller H implies larger asteroid diameter). Undefined for comets.\n",
    "\n",
    "_Diameter_\n",
    "\n",
    "Diameter value when known or a range (min - max) estimated using the asteroid's absolute magnitude (H) and limiting albedos of 0.25 and 0.05.\n",
    "\n",
    "_Rarity_\n",
    "\n",
    "A measure of how infrequent the Earth close approach is for asteroids of the same size and larger: 0 means an average frequency of 100 per year, i.e., roughly every few days or less, 1 corresponds to roughly once a month, 2 to roughly once a year, 3 to roughly once a decade, etc. 'n/a' means that a frequency estimate is not available.\n"
   ]
  },
  {
   "cell_type": "code",
   "execution_count": 4,
   "metadata": {},
   "outputs": [
    {
     "data": {
      "text/plain": [
       "Object                       object\n",
       "Close-Approach (CA) Date     object\n",
       "CA DistanceNominal (au)     float64\n",
       "CA DistanceMinimum (au)     float64\n",
       "V relative(km/s)            float64\n",
       "V infinity(km/s)            float64\n",
       "H(mag)                      float64\n",
       "Diameter                     object\n",
       "Rarity                        int64\n",
       "dtype: object"
      ]
     },
     "execution_count": 4,
     "metadata": {},
     "output_type": "execute_result"
    }
   ],
   "source": [
    "#looking in the columns types to see if there any type of transformation we need to make\n",
    "df.dtypes"
   ]
  },
  {
   "cell_type": "markdown",
   "metadata": {},
   "source": [
    "We notice that the columns _Object_, _Close-Approach (CA) Date_ and _Diameter_ are under the type object which will cause problems with our model training and evaluation."
   ]
  },
  {
   "cell_type": "code",
   "execution_count": 5,
   "metadata": {},
   "outputs": [],
   "source": [
    "#We take care of the column Object since it is for identification only and doesn't add any necessary value\n",
    "#to the process whatsoever\n",
    "df = df.drop('Object', axis=1)"
   ]
  },
  {
   "cell_type": "markdown",
   "metadata": {},
   "source": [
    "We deal with the first column Close-Approach (CA) Date"
   ]
  },
  {
   "cell_type": "code",
   "execution_count": 7,
   "metadata": {},
   "outputs": [],
   "source": [
    "#first we make it a string\n",
    "df['Close-Approach (CA) Date'] = df['Close-Approach (CA) Date'].astype(str)\n",
    "#we split the string so we can get rid of the time since its affect on spacial movement is very negligible\n",
    "df['Close-Approach (CA) Date'] = df['Close-Approach (CA) Date'].str.split(' ').str[0]\n",
    "#we convert the string to a datetime keeping the year only\n",
    "df['Close-Approach (CA) Date'] = pd.to_datetime(df['Close-Approach (CA) Date']).dt.year\n",
    "#this leads us to only keeping the necessary available years 2023 and 2024"
   ]
  },
  {
   "cell_type": "markdown",
   "metadata": {},
   "source": [
    "We move to the Diameter Column that is an object under a range of format\n",
    "We are going to try and convert it into an integer/float that represents the mean of the two interval available values, this way we can use it in training more effectively and we can carry on with the preprocessing efficiently as well"
   ]
  },
  {
   "cell_type": "code",
   "execution_count": 8,
   "metadata": {},
   "outputs": [],
   "source": [
    "for index, row in df.iterrows():\n",
    "    #Split the diameter string into two parts\n",
    "    diameter_parts = row['Diameter'].split(' - ')\n",
    "    if len(diameter_parts) == 2:\n",
    "        #Extract the first part of the diameter string and remove 'km' or 'm'\n",
    "        first_value_str = diameter_parts[0].strip(' km').strip(' m')\n",
    "        #Extract the second part of the diameter string and remove 'km' or 'm'\n",
    "        second_value_str = diameter_parts[1].strip(' km').strip(' m')\n",
    "        #Convert the string values to float\n",
    "        first_value = float(first_value_str)\n",
    "        second_value = float(second_value_str)\n",
    "        #Calculate the mean and assign it to a new column\n",
    "        df.at[index, 'Mean Diameter'] = (first_value + second_value) / 2\n",
    "    else:\n",
    "        #Handle cases where the diameter format is unexpected\n",
    "        df.at[index, 'Mean Diameter'] = None"
   ]
  },
  {
   "cell_type": "code",
   "execution_count": 11,
   "metadata": {},
   "outputs": [],
   "source": [
    "#we delete the diameter column since we no longer need it, \n",
    "#and we replaced it with the mean diameter column\n",
    "df = df.drop('Diameter', axis=1)"
   ]
  },
  {
   "cell_type": "markdown",
   "metadata": {},
   "source": [
    "Here we can see the result of this data transformation process"
   ]
  },
  {
   "cell_type": "code",
   "execution_count": 12,
   "metadata": {},
   "outputs": [
    {
     "data": {
      "text/html": [
       "<div>\n",
       "<style scoped>\n",
       "    .dataframe tbody tr th:only-of-type {\n",
       "        vertical-align: middle;\n",
       "    }\n",
       "\n",
       "    .dataframe tbody tr th {\n",
       "        vertical-align: top;\n",
       "    }\n",
       "\n",
       "    .dataframe thead th {\n",
       "        text-align: right;\n",
       "    }\n",
       "</style>\n",
       "<table border=\"1\" class=\"dataframe\">\n",
       "  <thead>\n",
       "    <tr style=\"text-align: right;\">\n",
       "      <th></th>\n",
       "      <th>Close-Approach (CA) Date</th>\n",
       "      <th>CA DistanceNominal (au)</th>\n",
       "      <th>CA DistanceMinimum (au)</th>\n",
       "      <th>V relative(km/s)</th>\n",
       "      <th>V infinity(km/s)</th>\n",
       "      <th>H(mag)</th>\n",
       "      <th>Rarity</th>\n",
       "      <th>Mean Diameter</th>\n",
       "    </tr>\n",
       "  </thead>\n",
       "  <tbody>\n",
       "    <tr>\n",
       "      <th>0</th>\n",
       "      <td>2023</td>\n",
       "      <td>0.02518</td>\n",
       "      <td>0.02509</td>\n",
       "      <td>5.01</td>\n",
       "      <td>4.99</td>\n",
       "      <td>26.6</td>\n",
       "      <td>0</td>\n",
       "      <td>21.0</td>\n",
       "    </tr>\n",
       "    <tr>\n",
       "      <th>1</th>\n",
       "      <td>2023</td>\n",
       "      <td>0.00291</td>\n",
       "      <td>0.00290</td>\n",
       "      <td>8.93</td>\n",
       "      <td>8.82</td>\n",
       "      <td>27.2</td>\n",
       "      <td>0</td>\n",
       "      <td>15.9</td>\n",
       "    </tr>\n",
       "    <tr>\n",
       "      <th>2</th>\n",
       "      <td>2023</td>\n",
       "      <td>0.04008</td>\n",
       "      <td>0.03996</td>\n",
       "      <td>6.33</td>\n",
       "      <td>6.32</td>\n",
       "      <td>26.0</td>\n",
       "      <td>0</td>\n",
       "      <td>27.5</td>\n",
       "    </tr>\n",
       "    <tr>\n",
       "      <th>3</th>\n",
       "      <td>2023</td>\n",
       "      <td>0.00427</td>\n",
       "      <td>0.00426</td>\n",
       "      <td>13.10</td>\n",
       "      <td>13.05</td>\n",
       "      <td>26.8</td>\n",
       "      <td>0</td>\n",
       "      <td>19.0</td>\n",
       "    </tr>\n",
       "    <tr>\n",
       "      <th>4</th>\n",
       "      <td>2023</td>\n",
       "      <td>0.00561</td>\n",
       "      <td>0.00558</td>\n",
       "      <td>24.55</td>\n",
       "      <td>24.53</td>\n",
       "      <td>25.5</td>\n",
       "      <td>1</td>\n",
       "      <td>34.0</td>\n",
       "    </tr>\n",
       "  </tbody>\n",
       "</table>\n",
       "</div>"
      ],
      "text/plain": [
       "   Close-Approach (CA) Date  CA DistanceNominal (au)  CA DistanceMinimum (au)  \\\n",
       "0                      2023                  0.02518                  0.02509   \n",
       "1                      2023                  0.00291                  0.00290   \n",
       "2                      2023                  0.04008                  0.03996   \n",
       "3                      2023                  0.00427                  0.00426   \n",
       "4                      2023                  0.00561                  0.00558   \n",
       "\n",
       "   V relative(km/s)  V infinity(km/s)  H(mag)  Rarity  Mean Diameter  \n",
       "0              5.01              4.99    26.6       0           21.0  \n",
       "1              8.93              8.82    27.2       0           15.9  \n",
       "2              6.33              6.32    26.0       0           27.5  \n",
       "3             13.10             13.05    26.8       0           19.0  \n",
       "4             24.55             24.53    25.5       1           34.0  "
      ]
     },
     "execution_count": 12,
     "metadata": {},
     "output_type": "execute_result"
    }
   ],
   "source": [
    "df.head()"
   ]
  },
  {
   "cell_type": "code",
   "execution_count": 13,
   "metadata": {},
   "outputs": [
    {
     "data": {
      "text/plain": [
       "Close-Approach (CA) Date      int64\n",
       "CA DistanceNominal (au)     float64\n",
       "CA DistanceMinimum (au)     float64\n",
       "V relative(km/s)            float64\n",
       "V infinity(km/s)            float64\n",
       "H(mag)                      float64\n",
       "Rarity                        int64\n",
       "Mean Diameter               float64\n",
       "dtype: object"
      ]
     },
     "execution_count": 13,
     "metadata": {},
     "output_type": "execute_result"
    }
   ],
   "source": [
    "df.dtypes"
   ]
  },
  {
   "cell_type": "markdown",
   "metadata": {},
   "source": [
    "Now that all of our data is under one type, we can proceed to the next step"
   ]
  },
  {
   "cell_type": "markdown",
   "metadata": {},
   "source": [
    "<h3>Checking for missing/null values</h3>"
   ]
  },
  {
   "cell_type": "code",
   "execution_count": 14,
   "metadata": {},
   "outputs": [
    {
     "data": {
      "text/plain": [
       "Close-Approach (CA) Date    0\n",
       "CA DistanceNominal (au)     0\n",
       "CA DistanceMinimum (au)     0\n",
       "V relative(km/s)            0\n",
       "V infinity(km/s)            0\n",
       "H(mag)                      0\n",
       "Rarity                      0\n",
       "Mean Diameter               3\n",
       "dtype: int64"
      ]
     },
     "execution_count": 14,
     "metadata": {},
     "output_type": "execute_result"
    }
   ],
   "source": [
    "df.isnull().sum()"
   ]
  },
  {
   "cell_type": "markdown",
   "metadata": {},
   "source": [
    "Since only three values are missing we replace with the mean as a data imputation method"
   ]
  },
  {
   "cell_type": "code",
   "execution_count": 15,
   "metadata": {},
   "outputs": [],
   "source": [
    "df['Mean Diameter'] = df['Mean Diameter'].fillna(df['Mean Diameter'].mean())"
   ]
  },
  {
   "cell_type": "markdown",
   "metadata": {},
   "source": [
    "We check for columns with only one unique value because that would they are contributing whatsoever to the dataset"
   ]
  },
  {
   "cell_type": "code",
   "execution_count": 18,
   "metadata": {},
   "outputs": [
    {
     "data": {
      "text/plain": [
       "Close-Approach (CA) Date       2\n",
       "CA DistanceNominal (au)     1342\n",
       "CA DistanceMinimum (au)     1322\n",
       "V relative(km/s)            1025\n",
       "V infinity(km/s)            1036\n",
       "H(mag)                       116\n",
       "Rarity                         4\n",
       "Mean Diameter                280\n",
       "dtype: int64"
      ]
     },
     "execution_count": 18,
     "metadata": {},
     "output_type": "execute_result"
    }
   ],
   "source": [
    "df.nunique()\n",
    "#no need to drop any extra columns"
   ]
  },
  {
   "cell_type": "markdown",
   "metadata": {},
   "source": [
    "<h3>Handling outliers</h3>\n",
    "outliers can really affect the direction our data is biased to, therefore detecting them would give amazing outcome, there many ways to figure out that we first start by plotting the box plots of the numerical columns"
   ]
  },
  {
   "cell_type": "code",
   "execution_count": 19,
   "metadata": {},
   "outputs": [
    {
     "data": {
      "image/png": "[encoded data removed]",
      "text/plain": [
       "<Figure size 640x480 with 1 Axes>"
      ]
     },
     "metadata": {},
     "output_type": "display_data"
    },
    {
     "data": {
      "image/png": "[encoded data removed]",
      "text/plain": [
       "<Figure size 640x480 with 1 Axes>"
      ]
     },
     "metadata": {},
     "output_type": "display_data"
    },
    {
     "data": {
      "image/png": "[encoded data removed]",
      "text/plain": [
       "<Figure size 640x480 with 1 Axes>"
      ]
     },
     "metadata": {},
     "output_type": "display_data"
    },
    {
     "data": {
      "image/png": "[encoded data removed]",
      "text/plain": [
       "<Figure size 640x480 with 1 Axes>"
      ]
     },
     "metadata": {},
     "output_type": "display_data"
    },
    {
     "data": {
      "image/png": "[encoded data removed]",
      "text/plain": [
       "<Figure size 640x480 with 1 Axes>"
      ]
     },
     "metadata": {},
     "output_type": "display_data"
    },
    {
     "data": {
      "image/png": "[encoded data removed]",
      "text/plain": [
       "<Figure size 640x480 with 1 Axes>"
      ]
     },
     "metadata": {},
     "output_type": "display_data"
    }
   ],
   "source": [
    "numerical_columns = [\n",
    "    'CA DistanceNominal (au)',\n",
    "    'CA DistanceMinimum (au)',\n",
    "    'V relative(km/s)',\n",
    "    'V infinity(km/s)',\n",
    "    'H(mag)',\n",
    "    'Mean Diameter',\n",
    "]\n",
    "#Rarity is not considered since it is the target variable with only four options\n",
    "for column in numerical_columns:\n",
    "    sns.boxplot(x=column, data=df)\n",
    "    plt.show()"
   ]
  },
  {
   "cell_type": "markdown",
   "metadata": {},
   "source": [
    "According to box plots, the points outside the whiskers generally stand for outliers, <br>however we cant be sure of that since the situation here concerns space related data which implies many extraordinary events in addition to measurements mistakes"
   ]
  },
  {
   "cell_type": "markdown",
   "metadata": {},
   "source": [
    "**<h3>We go for a further analysis by using <span style=\"color:red;\">Z_Score method </span><br>to validate the sanity of our reasoning</h3>**"
   ]
  },
  {
   "cell_type": "code",
   "execution_count": 22,
   "metadata": {},
   "outputs": [
    {
     "name": "stdout",
     "output_type": "stream",
     "text": [
      "\n",
      "Identified Outliers in CA DistanceNominal (au):\n",
      "Empty DataFrame\n",
      "Columns: [CA DistanceNominal (au), CA DistanceNominal (au) Z-score]\n",
      "Index: []\n",
      "\n",
      "Identified Outliers in CA DistanceMinimum (au):\n",
      "Empty DataFrame\n",
      "Columns: [CA DistanceMinimum (au), CA DistanceMinimum (au) Z-score]\n",
      "Index: []\n",
      "\n",
      "Identified Outliers in V relative(km/s):\n",
      "      V relative(km/s)  V relative(km/s) Z-score\n",
      "374              29.74                  3.754436\n",
      "519              36.37                  5.054740\n",
      "612              34.44                  4.676221\n",
      "637              29.53                  3.713250\n",
      "780              29.97                  3.799545\n",
      "1084             31.49                  4.097654\n",
      "1213             31.60                  4.119228\n",
      "1220             27.02                  3.220978\n",
      "1231             26.02                  3.024854\n",
      "1273             29.42                  3.691677\n",
      "1321             26.08                  3.036621\n",
      "1351             32.50                  4.295739\n",
      "1432             28.30                  3.472017\n",
      "1460             29.23                  3.654413\n",
      "1475             29.46                  3.699522\n",
      "\n",
      "Identified Outliers in V infinity(km/s):\n",
      "      V infinity(km/s)  V infinity(km/s) Z-score\n",
      "374              29.74                  3.753143\n",
      "519              36.37                  5.049207\n",
      "612              34.44                  4.671922\n",
      "637              29.52                  3.710136\n",
      "780              29.97                  3.798105\n",
      "1084             31.49                  4.095241\n",
      "1213             31.57                  4.110880\n",
      "1220             27.02                  3.221424\n",
      "1231             26.02                  3.025940\n",
      "1273             29.41                  3.688633\n",
      "1321             26.07                  3.035714\n",
      "1351             32.50                  4.292681\n",
      "1432             28.30                  3.471645\n",
      "1460             29.23                  3.653446\n",
      "1475             29.44                  3.694498\n",
      "\n",
      "Identified Outliers in H(mag):\n",
      "      H(mag)  H(mag) Z-score\n",
      "147     19.2       -3.873762\n",
      "158     19.2       -3.873762\n",
      "191     20.6       -3.091923\n",
      "223     20.5       -3.147769\n",
      "231     20.7       -3.036077\n",
      "241     20.2       -3.315306\n",
      "260     20.1       -3.371151\n",
      "283     19.9       -3.482842\n",
      "331     18.9       -4.041299\n",
      "398     32.3        3.442014\n",
      "536     31.6        3.051095\n",
      "577     18.5       -4.264681\n",
      "612     20.0       -3.426997\n",
      "667     20.7       -3.036077\n",
      "681     20.7       -3.036077\n",
      "765     19.8       -3.538688\n",
      "780     20.5       -3.147769\n",
      "783     20.0       -3.426997\n",
      "818     18.5       -4.264681\n",
      "1012    18.5       -4.264681\n",
      "1089    20.1       -3.371151\n",
      "1225    32.1        3.330323\n",
      "1250    20.4       -3.203614\n",
      "1523    18.9       -4.041299\n",
      "1524    18.8       -4.097144\n",
      "1529    31.8        3.162786\n",
      "1571    20.3       -3.259460\n",
      "\n",
      "Identified Outliers in Mean Diameter:\n",
      "      Mean Diameter  Mean Diameter Z-score\n",
      "127           205.0               3.319550\n",
      "147           610.0              11.319523\n",
      "154           190.0               3.023255\n",
      "158           620.0              11.517053\n",
      "169           225.0               3.714610\n",
      "191           325.0               5.689912\n",
      "217           230.0               3.813376\n",
      "223           340.0               5.986208\n",
      "231           310.0               5.393617\n",
      "241           390.0               6.973858\n",
      "260           415.0               7.467684\n",
      "283           455.0               8.257805\n",
      "331           225.5               3.724487\n",
      "577           265.6               4.516583\n",
      "612           425.0               7.665214\n",
      "667           310.0               5.393617\n",
      "681           305.0               5.294852\n",
      "697           225.0               3.714610\n",
      "765           470.0               8.554100\n",
      "780           345.0               6.084973\n",
      "783           430.0               7.763979\n",
      "795           255.0               4.307201\n",
      "825           210.0               3.418315\n",
      "1012          270.6               4.615348\n",
      "1092          195.0               3.122020\n",
      "1096          205.0               3.319550\n",
      "1152          290.0               4.998557\n",
      "1250          360.0               6.381268\n",
      "1268          305.0               5.294852\n",
      "1301          225.0               3.714610\n",
      "1490          260.0               4.405966\n",
      "1523          225.5               3.724487\n",
      "1524          225.5               3.724487\n",
      "1571          375.0               6.677563\n"
     ]
    }
   ],
   "source": [
    "for column in numerical_columns:\n",
    "    mean = df[column].mean()\n",
    "    std_dev = df[column].std()\n",
    "    df[f'{column} Z-score'] = (df[column] - mean) / std_dev\n",
    "    df[f'{column} Outlier'] = np.abs(df[f'{column} Z-score']) > 3\n",
    "\n",
    "record_df = df.copy()\n",
    "for column in numerical_columns:\n",
    "    outliers = record_df[record_df[f'{column} Outlier']]\n",
    "    print(f\"\\nIdentified Outliers in {column}:\")\n",
    "    print(outliers[[column, f'{column} Z-score']])\n",
    "\n",
    "#We save the results to a new CSV file to facilitate the manipulation later\n",
    "record_df.to_csv('outliers_detected.csv', index=False)"
   ]
  },
  {
   "cell_type": "code",
   "execution_count": 24,
   "metadata": {},
   "outputs": [
    {
     "name": "stdout",
     "output_type": "stream",
     "text": [
      "False    1573\n",
      "Name: CA DistanceNominal (au) Outlier, dtype: int64\n",
      "False    1573\n",
      "Name: CA DistanceMinimum (au) Outlier, dtype: int64\n",
      "False    1558\n",
      "True       15\n",
      "Name: V relative(km/s) Outlier, dtype: int64\n",
      "False    1558\n",
      "True       15\n",
      "Name: V infinity(km/s) Outlier, dtype: int64\n",
      "False    1546\n",
      "True       27\n",
      "Name: H(mag) Outlier, dtype: int64\n",
      "False    1539\n",
      "True       34\n",
      "Name: Mean Diameter Outlier, dtype: int64\n"
     ]
    }
   ],
   "source": [
    "#we read the csv created for us to get some idea on it\n",
    "outliers = pd.read_csv('outliers_detected.csv')\n",
    "for column in numerical_columns:\n",
    "    print(df[f'{column} Outlier'].value_counts())\n"
   ]
  },
  {
   "cell_type": "markdown",
   "metadata": {},
   "source": [
    "False values are normal values, however True ones according to the Z_score refer to the outliers, <br> further we calculate the the global rate of these outliers, and it doesn't exceed <span style = \"color:red;\"> 5% </span>then outliers can be considered <br>as normal rare behavior and there is no need to delete them or impute them"
   ]
  },
  {
   "cell_type": "code",
   "execution_count": 25,
   "metadata": {},
   "outputs": [
    {
     "name": "stdout",
     "output_type": "stream",
     "text": [
      "CA DistanceNominal (au) Outlier: 0.00% True values\n",
      "CA DistanceMinimum (au) Outlier: 0.00% True values\n",
      "V relative(km/s) Outlier: 0.95% True values\n",
      "V infinity(km/s) Outlier: 0.95% True values\n",
      "H(mag) Outlier: 1.72% True values\n",
      "Mean Diameter Outlier: 2.16% True values\n"
     ]
    }
   ],
   "source": [
    "for column in numerical_columns:\n",
    "    outlier_column = f'{column} Outlier'\n",
    "    if outlier_column in outliers.columns:\n",
    "        true_count = outliers[outlier_column].value_counts().get(True, 0)\n",
    "        total_count = len(outliers[outlier_column])\n",
    "        true_percentage = (true_count / total_count) * 100\n",
    "        print(f\"{outlier_column}: {true_percentage:.2f}% True values\")"
   ]
  },
  {
   "cell_type": "markdown",
   "metadata": {},
   "source": [
    "**<h3>Lucky us!, the highest pourcentage of outliers is only <span style = \"color:green;\"> 2.16% which is way under 5% </span>,<br> which means there is no need for us to proceed with the outliers detection and procedure</h3>**"
   ]
  },
  {
   "cell_type": "markdown",
   "metadata": {},
   "source": [
    "**<h3>Now Moving to an important issue with our dataset which is Imbalance</h3>**"
   ]
  },
  {
   "cell_type": "code",
   "execution_count": 26,
   "metadata": {},
   "outputs": [
    {
     "data": {
      "text/plain": [
       "0    1399\n",
       "1     149\n",
       "2      24\n",
       "3       1\n",
       "Name: Rarity, dtype: int64"
      ]
     },
     "execution_count": 26,
     "metadata": {},
     "output_type": "execute_result"
    }
   ],
   "source": [
    "df['Rarity'].value_counts()"
   ]
  },
  {
   "cell_type": "markdown",
   "metadata": {},
   "source": [
    "as displayed above, there an incredible imbalance in our target variable that is going to affect very much our results and model prediction ability"
   ]
  },
  {
   "cell_type": "markdown",
   "metadata": {},
   "source": [
    "Since the dataset is relatively small, using oversampling to deal with the imbalance would lead to stupidly duplicating rows, <br>however by using **<span style=\"color:green;\"> SMOTE method</span>**,<br> we can skip variety of problems because it generates synthetic data which is considered to be more reliable in our case <br>without the excessive huge increase oversampling would be causing."
   ]
  },
  {
   "cell_type": "markdown",
   "metadata": {},
   "source": [
    "The SMOTE method works by calculating the distances to generate the data,<br> therefore we would to duplicate the column with the Rarity 3 only once because SMOTE method needs at least two neighbors to be applied"
   ]
  },
  {
   "cell_type": "code",
   "execution_count": 27,
   "metadata": {},
   "outputs": [
    {
     "name": "stderr",
     "output_type": "stream",
     "text": [
      "C:\\Users\\boume\\AppData\\Local\\Temp\\ipykernel_66168\\917823707.py:4: FutureWarning: The frame.append method is deprecated and will be removed from pandas in a future version. Use pandas.concat instead.\n",
      "  df = df.append(duplicated_row, ignore_index=True)\n"
     ]
    },
    {
     "data": {
      "text/plain": [
       "0    1399\n",
       "1     149\n",
       "2      24\n",
       "3       2\n",
       "Name: Rarity, dtype: int64"
      ]
     },
     "execution_count": 27,
     "metadata": {},
     "output_type": "execute_result"
    }
   ],
   "source": [
    "condition = (df['Rarity'] == 3)\n",
    "row_to_duplicate = df.loc[condition].iloc[0] \n",
    "duplicated_row = row_to_duplicate.copy() \n",
    "df = df.append(duplicated_row, ignore_index=True)\n",
    "df['Rarity'].value_counts()"
   ]
  },
  {
   "cell_type": "markdown",
   "metadata": {},
   "source": [
    "Now that it's all done, we move to the SMOTE method"
   ]
  },
  {
   "cell_type": "code",
   "execution_count": 28,
   "metadata": {},
   "outputs": [
    {
     "name": "stderr",
     "output_type": "stream",
     "text": [
      "C:\\Users\\boume\\AppData\\Local\\Packages\\PythonSoftwareFoundation.Python.3.10_qbz5n2kfra8p0\\LocalCache\\local-packages\\Python310\\site-packages\\joblib\\externals\\loky\\backend\\context.py:136: UserWarning: Could not find the number of physical cores for the following reason:\n",
      "found 0 physical cores < 1\n",
      "Returning the number of logical cores instead. You can silence this warning by setting LOKY_MAX_CPU_COUNT to the number of cores you want to use.\n",
      "  warnings.warn(\n",
      "  File \"C:\\Users\\boume\\AppData\\Local\\Packages\\PythonSoftwareFoundation.Python.3.10_qbz5n2kfra8p0\\LocalCache\\local-packages\\Python310\\site-packages\\joblib\\externals\\loky\\backend\\context.py\", line 282, in _count_physical_cores\n",
      "    raise ValueError(f\"found {cpu_count_physical} physical cores < 1\")\n"
     ]
    }
   ],
   "source": [
    "from imblearn.over_sampling import SMOTE\n",
    "X = df.drop('Rarity', axis=1)  \n",
    "y = df['Rarity']\n",
    "smote = SMOTE(sampling_strategy='auto', k_neighbors=1, random_state=42)\n",
    "X_resampled, y_resampled = smote.fit_resample(X, y)"
   ]
  },
  {
   "cell_type": "code",
   "execution_count": 29,
   "metadata": {},
   "outputs": [
    {
     "data": {
      "text/plain": [
       "0    1399\n",
       "1    1399\n",
       "2    1399\n",
       "3    1399\n",
       "Name: Rarity, dtype: int64"
      ]
     },
     "execution_count": 29,
     "metadata": {},
     "output_type": "execute_result"
    }
   ],
   "source": [
    "y_resampled.value_counts()"
   ]
  },
  {
   "cell_type": "markdown",
   "metadata": {},
   "source": [
    "Now all target variations have equal training chances"
   ]
  },
  {
   "cell_type": "markdown",
   "metadata": {},
   "source": [
    "**<h3>We split and standardize the data so we could start the model building phase</h3>**"
   ]
  },
  {
   "cell_type": "code",
   "execution_count": 30,
   "metadata": {},
   "outputs": [],
   "source": [
    "X_train, X_test, y_train, y_test = train_test_split(X_resampled, y_resampled, test_size=0.2, random_state=42)\n",
    "scaler = StandardScaler()\n",
    "X_train_scaled = scaler.fit_transform(X_train)\n",
    "X_test_scaled = scaler.transform(X_test)"
   ]
  },
  {
   "cell_type": "markdown",
   "metadata": {},
   "source": [
    "**<h2 style = \"color:#FFDB5C;\">3/ Model Building<h2>**"
   ]
  },
  {
   "cell_type": "markdown",
   "metadata": {},
   "source": [
    "We are going to test a bunch of classification model to see which ones perform best and try and give an analysis to why they are suitable to this dataset"
   ]
  },
  {
   "cell_type": "code",
   "execution_count": 31,
   "metadata": {},
   "outputs": [
    {
     "name": "stderr",
     "output_type": "stream",
     "text": [
      "C:\\Users\\boume\\AppData\\Local\\Packages\\PythonSoftwareFoundation.Python.3.10_qbz5n2kfra8p0\\LocalCache\\local-packages\\Python310\\site-packages\\sklearn\\linear_model\\_logistic.py:460: ConvergenceWarning: lbfgs failed to converge (status=1):\n",
      "STOP: TOTAL NO. of ITERATIONS REACHED LIMIT.\n",
      "\n",
      "Increase the number of iterations (max_iter) or scale the data as shown in:\n",
      "    https://scikit-learn.org/stable/modules/preprocessing.html\n",
      "Please also refer to the documentation for alternative solver options:\n",
      "    https://scikit-learn.org/stable/modules/linear_model.html#logistic-regression\n",
      "  n_iter_i = _check_optimize_result(\n"
     ]
    },
    {
     "name": "stdout",
     "output_type": "stream",
     "text": [
      "Model: Logistic Regression\n",
      "Accuracy: 0.9169642857142857\n",
      "Classification Report:\n",
      "              precision    recall  f1-score   support\n",
      "\n",
      "           0       0.98      0.93      0.95       303\n",
      "           1       0.81      0.90      0.85       280\n",
      "           2       0.92      0.84      0.88       274\n",
      "           3       0.97      1.00      0.98       263\n",
      "\n",
      "    accuracy                           0.92      1120\n",
      "   macro avg       0.92      0.92      0.92      1120\n",
      "weighted avg       0.92      0.92      0.92      1120\n",
      "\n",
      "--------------------------------------------------\n",
      "Model: Decision Tree\n",
      "Accuracy: 0.9901785714285715\n",
      "Classification Report:\n",
      "              precision    recall  f1-score   support\n",
      "\n",
      "           0       1.00      0.98      0.99       303\n",
      "           1       0.97      0.99      0.98       280\n",
      "           2       0.99      0.99      0.99       274\n",
      "           3       1.00      1.00      1.00       263\n",
      "\n",
      "    accuracy                           0.99      1120\n",
      "   macro avg       0.99      0.99      0.99      1120\n",
      "weighted avg       0.99      0.99      0.99      1120\n",
      "\n",
      "--------------------------------------------------\n",
      "Model: Random Forest\n",
      "Accuracy: 0.9964285714285714\n",
      "Classification Report:\n",
      "              precision    recall  f1-score   support\n",
      "\n",
      "           0       1.00      0.99      1.00       303\n",
      "           1       0.99      1.00      0.99       280\n",
      "           2       1.00      1.00      1.00       274\n",
      "           3       1.00      1.00      1.00       263\n",
      "\n",
      "    accuracy                           1.00      1120\n",
      "   macro avg       1.00      1.00      1.00      1120\n",
      "weighted avg       1.00      1.00      1.00      1120\n",
      "\n",
      "--------------------------------------------------\n",
      "Model: Gradient Boosting\n",
      "Accuracy: 0.9901785714285715\n",
      "Classification Report:\n",
      "              precision    recall  f1-score   support\n",
      "\n",
      "           0       1.00      0.97      0.99       303\n",
      "           1       0.97      1.00      0.98       280\n",
      "           2       1.00      0.99      0.99       274\n",
      "           3       1.00      1.00      1.00       263\n",
      "\n",
      "    accuracy                           0.99      1120\n",
      "   macro avg       0.99      0.99      0.99      1120\n",
      "weighted avg       0.99      0.99      0.99      1120\n",
      "\n",
      "--------------------------------------------------\n",
      "Model: Support Vector Machine\n",
      "Accuracy: 0.9553571428571429\n",
      "Classification Report:\n",
      "              precision    recall  f1-score   support\n",
      "\n",
      "           0       0.99      0.92      0.95       303\n",
      "           1       0.89      0.97      0.93       280\n",
      "           2       0.98      0.94      0.96       274\n",
      "           3       0.98      1.00      0.99       263\n",
      "\n",
      "    accuracy                           0.96      1120\n",
      "   macro avg       0.96      0.96      0.96      1120\n",
      "weighted avg       0.96      0.96      0.96      1120\n",
      "\n",
      "--------------------------------------------------\n",
      "Model: k-Nearest Neighbors\n",
      "Accuracy: 0.9732142857142857\n",
      "Classification Report:\n",
      "              precision    recall  f1-score   support\n",
      "\n",
      "           0       0.97      0.94      0.96       303\n",
      "           1       0.93      0.98      0.95       280\n",
      "           2       1.00      0.98      0.99       274\n",
      "           3       1.00      1.00      1.00       263\n",
      "\n",
      "    accuracy                           0.97      1120\n",
      "   macro avg       0.97      0.97      0.97      1120\n",
      "weighted avg       0.97      0.97      0.97      1120\n",
      "\n",
      "--------------------------------------------------\n"
     ]
    },
    {
     "ename": "",
     "evalue": "",
     "output_type": "error",
     "traceback": [
      "\u001b[1;31mThe Kernel crashed while executing code in the current cell or a previous cell. \n",
      "\u001b[1;31mPlease review the code in the cell(s) to identify a possible cause of the failure. \n",
      "\u001b[1;31mClick <a href='https://aka.ms/vscodeJupyterKernelCrash'>here</a> for more info. \n",
      "\u001b[1;31mView Jupyter <a href='command:jupyter.viewOutput'>log</a> for further details."
     ]
    }
   ],
   "source": [
    "models = {\n",
    "    'Logistic Regression': LogisticRegression(),\n",
    "    'Decision Tree': DecisionTreeClassifier(),\n",
    "    'Random Forest': RandomForestClassifier(),\n",
    "    'Gradient Boosting': GradientBoostingClassifier(),\n",
    "    'Support Vector Machine': SVC(),\n",
    "    'k-Nearest Neighbors': KNeighborsClassifier()\n",
    "}\n",
    "results = {}\n",
    "for name, model in models.items():\n",
    "    model.fit(X_train_scaled, y_train)\n",
    "    y_pred = model.predict(X_test_scaled)\n",
    "    accuracy = accuracy_score(y_test, y_pred)\n",
    "    report = classification_report(y_test, y_pred)\n",
    "    results[name] = {'accuracy': accuracy, 'classification_report': report}\n",
    "\n",
    "for name, result in results.items():\n",
    "    print(f\"Model: {name}\")\n",
    "    print(f\"Accuracy: {result['accuracy']}\")\n",
    "    print(\"Classification Report:\")\n",
    "    print(result['classification_report'])\n",
    "    print(\"-\" * 50)"
   ]
  },
  {
   "cell_type": "markdown",
   "metadata": {},
   "source": [
    "**<h3 style = \"color:green;\">These are the final results of the training</h3>**\n",
    "\n",
    "\n",
    "Model: Logistic Regression\n",
    "Accuracy: 0.9169642857142857\n",
    "Classification Report:\n",
    "              precision    recall  f1-score   support\n",
    "\n",
    "           0       0.98      0.93      0.95       303\n",
    "           1       0.81      0.90      0.85       280\n",
    "           2       0.92      0.84      0.88       274\n",
    "           3       0.97      1.00      0.98       263\n",
    "\n",
    "    accuracy                           0.92      1120\n",
    "   macro avg       0.92      0.92      0.92      1120\n",
    "weighted avg       0.92      0.92      0.92      1120\n",
    "\n",
    "--------------------------------------------------\n",
    "Model: Decision Tree\n",
    "Accuracy: 0.9901785714285715\n",
    "Classification Report:\n",
    "              precision    recall  f1-score   support\n",
    "\n",
    "           0       1.00      0.98      0.99       303\n",
    "           1       0.97      0.99      0.98       280\n",
    "           2       0.99      0.99      0.99       274\n",
    "           3       1.00      1.00      1.00       263\n",
    "\n",
    "    accuracy                           0.99      1120\n",
    "   macro avg       0.99      0.99      0.99      1120\n",
    "weighted avg       0.99      0.99      0.99      1120\n",
    "\n",
    "--------------------------------------------------\n",
    "Model: Random Forest\n",
    "Accuracy: 0.9964285714285714\n",
    "Classification Report:\n",
    "              precision    recall  f1-score   support\n",
    "\n",
    "           0       1.00      0.99      1.00       303\n",
    "           1       0.99      1.00      0.99       280\n",
    "           2       1.00      1.00      1.00       274\n",
    "           3       1.00      1.00      1.00       263\n",
    "\n",
    "    accuracy                           1.00      1120\n",
    "   macro avg       1.00      1.00      1.00      1120\n",
    "weighted avg       1.00      1.00      1.00      1120\n",
    "\n",
    "--------------------------------------------------\n",
    "Model: Gradient Boosting\n",
    "Accuracy: 0.9901785714285715\n",
    "Classification Report:\n",
    "              precision    recall  f1-score   support\n",
    "\n",
    "           0       1.00      0.97      0.99       303\n",
    "           1       0.97      1.00      0.98       280\n",
    "           2       1.00      0.99      0.99       274\n",
    "           3       1.00      1.00      1.00       263\n",
    "\n",
    "    accuracy                           0.99      1120\n",
    "   macro avg       0.99      0.99      0.99      1120\n",
    "weighted avg       0.99      0.99      0.99      1120\n",
    "\n",
    "--------------------------------------------------\n",
    "Model: Support Vector Machine\n",
    "Accuracy: 0.9553571428571429\n",
    "Classification Report:\n",
    "              precision    recall  f1-score   support\n",
    "\n",
    "           0       0.99      0.92      0.95       303\n",
    "           1       0.89      0.97      0.93       280\n",
    "           2       0.98      0.94      0.96       274\n",
    "           3       0.98      1.00      0.99       263\n",
    "\n",
    "    accuracy                           0.96      1120\n",
    "   macro avg       0.96      0.96      0.96      1120\n",
    "weighted avg       0.96      0.96      0.96      1120\n",
    "\n",
    "--------------------------------------------------\n",
    "Model: k-Nearest Neighbors\n",
    "Accuracy: 0.9732142857142857\n",
    "Classification Report:\n",
    "              precision    recall  f1-score   support\n",
    "\n",
    "           0       0.97      0.94      0.96       303\n",
    "           1       0.93      0.98      0.95       280\n",
    "           2       1.00      0.98      0.99       274\n",
    "           3       1.00      1.00      1.00       263\n",
    "\n",
    "    accuracy                           0.97      1120\n",
    "   macro avg       0.97      0.97      0.97      1120\n",
    "weighted avg       0.97      0.97      0.97      1120\n",
    "\n",
    "--------------------------------------------------\n"
   ]
  },
  {
   "cell_type": "code",
   "execution_count": null,
   "metadata": {},
   "outputs": [],
   "source": []
  }
 ],
 "metadata": {
  "kernelspec": {
   "display_name": "Python 3",
   "language": "python",
   "name": "python3"
  },
  "language_info": {
   "codemirror_mode": {
    "name": "ipython",
    "version": 3
   },
   "file_extension": ".py",
   "mimetype": "text/x-python",
   "name": "python",
   "nbconvert_exporter": "python",
   "pygments_lexer": "ipython3",
   "version": "3.10.11"
  }
 },
 "nbformat": 4,
 "nbformat_minor": 2
}
